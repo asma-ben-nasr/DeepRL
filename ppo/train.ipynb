{
 "cells": [
  {
   "cell_type": "code",
   "execution_count": 1,
   "metadata": {},
   "outputs": [
    {
     "name": "stderr",
     "output_type": "stream",
     "text": [
      "C:\\Users\\MSI\\anaconda3\\lib\\site-packages\\numpy\\_distributor_init.py:30: UserWarning: loaded more than 1 DLL from .libs:\n",
      "C:\\Users\\MSI\\anaconda3\\lib\\site-packages\\numpy\\.libs\\libopenblas.PYQHXLVVQ7VESDPUVUADXEVJOBGHJPAY.gfortran-win_amd64.dll\n",
      "C:\\Users\\MSI\\anaconda3\\lib\\site-packages\\numpy\\.libs\\libopenblas.XWYDX2IKJW2NMTWSFYNGFUWKQU3LYTCZ.gfortran-win_amd64.dll\n",
      "  warnings.warn(\"loaded more than 1 DLL from .libs:\"\n"
     ]
    }
   ],
   "source": [
    "import matplotlib.pyplot as plt\n",
    "import gym\n",
    "import numpy as np\n",
    "from ppo import Agent\n",
    "import torch as T"
   ]
  },
  {
   "cell_type": "code",
   "execution_count": 6,
   "metadata": {},
   "outputs": [],
   "source": [
    "def train(n_episodes,env_name):\n",
    "    env=gym.make(env_name)\n",
    "    N = 20\n",
    "    batch_size=5\n",
    "    n_epochs = 4\n",
    "    alpha = 0.0003\n",
    "    agent=Agent(n_actions=env.action_space.n,batch_size=batch_size,alpha=alpha,n_epochs = n_epochs,input_dims=env.observation_space.shape)\n",
    "    best_score=env.reward_range[0]\n",
    "    score_history=[]\n",
    "    avg_score_arr=[]\n",
    "    learn_iters =0\n",
    "    avg_score = 0\n",
    "    n_steps =0\n",
    "    for i in range(n_episodes+1):\n",
    "        observation = env.reset()\n",
    "        done=False\n",
    "        score =0\n",
    "        while not done:\n",
    "            action,prob,val = agent.choose_action(observation)\n",
    "            observation_,reward,done,info=env.step(action)\n",
    "            n_steps +=1\n",
    "            score +=reward\n",
    "            agent.remember(observation,action,prob,val,reward,done)\n",
    "            if n_steps %N == 0:\n",
    "                agent.learn()\n",
    "                learn_iters+=1\n",
    "            observation=observation_\n",
    "        score_history.append(score)\n",
    "        avg_score = np.mean(score_history[-100:])\n",
    "        avg_score_arr.append(avg_score)\n",
    "        if avg_score > best_score:\n",
    "            best_score=avg_score\n",
    "            agent.save_models()\n",
    "        \n",
    "        print('episode ',i,' score %.1f ' %score,' avg score %.1f' %avg_score,'time steps',n_steps,'learning steps', learn_iters)\n",
    "        if (score >=180.0) and (best_score>=124.0): #ideally score >=200.0 and best score >= 190.0 but it takes too much episodes \n",
    "            print('Environment solved in {:d} episodes!\\tAverage Score: {:.2f}'.format(i, best_score))\n",
    "            \n",
    "            break\n",
    "    return avg_score, score_history,avg_score_arr\n",
    "    "
   ]
  },
  {
   "cell_type": "code",
   "execution_count": 14,
   "metadata": {},
   "outputs": [
    {
     "name": "stdout",
     "output_type": "stream",
     "text": [
      "... saving models ...\n",
      "episode  0  score 24.0   avg score 24.0 time steps 24 learning steps 1\n",
      "... saving models ...\n",
      "episode  1  score 38.0   avg score 31.0 time steps 62 learning steps 3\n",
      "... saving models ...\n",
      "episode  2  score 55.0   avg score 39.0 time steps 117 learning steps 5\n",
      "... saving models ...\n",
      "episode  3  score 55.0   avg score 43.0 time steps 172 learning steps 8\n",
      "... saving models ...\n",
      "episode  4  score 87.0   avg score 51.8 time steps 259 learning steps 12\n",
      "... saving models ...\n",
      "episode  5  score 90.0   avg score 58.2 time steps 349 learning steps 17\n",
      "... saving models ...\n",
      "episode  6  score 71.0   avg score 60.0 time steps 420 learning steps 21\n",
      "episode  7  score 53.0   avg score 59.1 time steps 473 learning steps 23\n",
      "... saving models ...\n",
      "episode  8  score 75.0   avg score 60.9 time steps 548 learning steps 27\n",
      "episode  9  score 33.0   avg score 58.1 time steps 581 learning steps 29\n",
      "... saving models ...\n",
      "episode  10  score 102.0   avg score 62.1 time steps 683 learning steps 34\n",
      "... saving models ...\n",
      "episode  11  score 185.0   avg score 72.3 time steps 868 learning steps 43\n",
      "... saving models ...\n",
      "episode  12  score 90.0   avg score 73.7 time steps 958 learning steps 47\n",
      "episode  13  score 64.0   avg score 73.0 time steps 1022 learning steps 51\n",
      "episode  14  score 40.0   avg score 70.8 time steps 1062 learning steps 53\n",
      "episode  15  score 41.0   avg score 68.9 time steps 1103 learning steps 55\n",
      "episode  16  score 20.0   avg score 66.1 time steps 1123 learning steps 56\n",
      "episode  17  score 18.0   avg score 63.4 time steps 1141 learning steps 57\n",
      "episode  18  score 132.0   avg score 67.0 time steps 1273 learning steps 63\n",
      "episode  19  score 200.0   avg score 73.7 time steps 1473 learning steps 73\n",
      "... saving models ...\n",
      "episode  20  score 195.0   avg score 79.4 time steps 1668 learning steps 83\n",
      "... saving models ...\n",
      "episode  21  score 200.0   avg score 84.9 time steps 1868 learning steps 93\n",
      "... saving models ...\n",
      "episode  22  score 200.0   avg score 89.9 time steps 2068 learning steps 103\n",
      "... saving models ...\n",
      "episode  23  score 200.0   avg score 94.5 time steps 2268 learning steps 113\n",
      "... saving models ...\n",
      "episode  24  score 174.0   avg score 97.7 time steps 2442 learning steps 122\n",
      "... saving models ...\n",
      "episode  25  score 162.0   avg score 100.2 time steps 2604 learning steps 130\n",
      "... saving models ...\n",
      "episode  26  score 200.0   avg score 103.9 time steps 2804 learning steps 140\n",
      "... saving models ...\n",
      "episode  27  score 200.0   avg score 107.3 time steps 3004 learning steps 150\n",
      "... saving models ...\n",
      "episode  28  score 200.0   avg score 110.5 time steps 3204 learning steps 160\n",
      "... saving models ...\n",
      "episode  29  score 200.0   avg score 113.5 time steps 3404 learning steps 170\n",
      "... saving models ...\n",
      "episode  30  score 200.0   avg score 116.3 time steps 3604 learning steps 180\n",
      "... saving models ...\n",
      "episode  31  score 200.0   avg score 118.9 time steps 3804 learning steps 190\n",
      "... saving models ...\n",
      "episode  32  score 200.0   avg score 121.3 time steps 4004 learning steps 200\n",
      "... saving models ...\n",
      "episode  33  score 200.0   avg score 123.6 time steps 4204 learning steps 210\n",
      "... saving models ...\n",
      "episode  34  score 200.0   avg score 125.8 time steps 4404 learning steps 220\n",
      "Environment solved in 34 episodes!\tAverage Score: 125.83\n"
     ]
    }
   ],
   "source": [
    "avg_score, score_history ,avg_score_arr= train(1000,'CartPole-v0')"
   ]
  },
  {
   "cell_type": "code",
   "execution_count": 18,
   "metadata": {},
   "outputs": [
    {
     "data": {
      "image/png": "[encoded data removed]",
      "text/plain": [
       "<Figure size 432x288 with 1 Axes>"
      ]
     },
     "metadata": {
      "needs_background": "light"
     },
     "output_type": "display_data"
    }
   ],
   "source": [
    "fig = plt.figure()\n",
    "ax = fig.add_subplot(111)\n",
    "plt.plot(np.arange(1, len(avg_score_arr)+1), avg_score_arr)\n",
    "plt.ylabel('average Score')\n",
    "plt.xlabel('Episode #')\n",
    "plt.show()"
   ]
  },
  {
   "cell_type": "code",
   "execution_count": 6,
   "metadata": {},
   "outputs": [
    {
     "name": "stdout",
     "output_type": "stream",
     "text": [
      "... loading models ...\n"
     ]
    }
   ],
   "source": [
    "env=gym.make('CartPole-v0')\n",
    "agent=Agent(n_actions=env.action_space.n,batch_size=5,alpha=0.0003,n_epochs = 4,input_dims=env.observation_space.shape)\n",
    "agent.load_models()\n",
    "\n",
    "for i in range(5):\n",
    "    state = env.reset()\n",
    "    for j in range(1000):\n",
    "        action,_,_ = agent.choose_action(state)\n",
    "        env.render()\n",
    "        \n",
    "        state,reward,done,_ = env.step(action)\n",
    "        if done:\n",
    "            break\n",
    "\n",
    "env.close()"
   ]
  },
  {
   "cell_type": "code",
   "execution_count": null,
   "metadata": {},
   "outputs": [],
   "source": []
  }
 ],
 "metadata": {
  "interpreter": {
   "hash": "a5055cf8dbec482c608d12f1cf9fb091b77541effa35f176a3529affcaaa155d"
  },
  "kernelspec": {
   "display_name": "Python 3.8.5 64-bit ('base': conda)",
   "language": "python",
   "name": "python3"
  },
  "language_info": {
   "codemirror_mode": {
    "name": "ipython",
    "version": 3
   },
   "file_extension": ".py",
   "mimetype": "text/x-python",
   "name": "python",
   "nbconvert_exporter": "python",
   "pygments_lexer": "ipython3",
   "version": "3.8.5"
  },
  "orig_nbformat": 4
 },
 "nbformat": 4,
 "nbformat_minor": 2
}
